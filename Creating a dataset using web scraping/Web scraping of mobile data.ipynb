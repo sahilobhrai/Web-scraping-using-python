{
 "cells": [
  {
   "cell_type": "code",
   "execution_count": 5,
   "id": "08429088",
   "metadata": {},
   "outputs": [],
   "source": [
    "from bs4 import BeautifulSoup as soup\n",
    "from urllib.request import urlopen as uReq\n",
    "\n",
    "my_url=\"https://www.flipkart.com/search?q=samsung+mobiles&amp;sid=tyy%2C4io&amp;as=on&amp;as-show=on&amp;otracker=AS_QueryStore_HistoryAutoSuggest_0_2&amp;otracker1=AS_QueryStore_HistoryAutoSuggest_0_2&amp;as-pos=0&amp;as-type=HISTORY&amp;as-searchtext=sa\"\n",
    "\n",
    "uClient = uReq(my_url)\n",
    "page_html = uClient.read()\n",
    "uClient.close()\n",
    "page_soup = soup(page_html, \"html.parser\")"
   ]
  },
  {
   "cell_type": "code",
   "execution_count": 7,
   "id": "a7c84607",
   "metadata": {},
   "outputs": [
    {
     "name": "stdout",
     "output_type": "stream",
     "text": [
      "24\n"
     ]
    }
   ],
   "source": [
    "containers = page_soup.findAll(\"div\", { \"class\": \"_13oc-S\"})\n",
    "print(len(containers))"
   ]
  },
  {
   "cell_type": "code",
   "execution_count": 8,
   "id": "d527656c",
   "metadata": {},
   "outputs": [
    {
     "name": "stdout",
     "output_type": "stream",
     "text": [
      "<div class=\"_13oc-S\">\n",
      " <div data-id=\"MOBGFG794YPQ9RAE\" style=\"width:100%\">\n",
      "  <div class=\"_2kHMtA\">\n",
      "   <a class=\"_1fQZEK\" href=\"/samsung-galaxy-f12-sea-green-64-gb/p/itm4d3582cd695fd?pid=MOBGFG794YPQ9RAE&amp;lid=LSTMOBGFG794YPQ9RAEGUPPTW&amp;marketplace=FLIPKART&amp;q=samsung+mobiles&amp;store=tyy%2F4io&amp;srno=s_1_1&amp;otracker=search&amp;fm=organic&amp;iid=a884f527-62a4-461a-b8c2-792ff61912b3.MOBGFG794YPQ9RAE.SEARCH&amp;ppt=None&amp;ppn=None&amp;ssid=q1619k3n8w0000001642606047145&amp;qH=0258c7d48242959a\" rel=\"noopener noreferrer\" target=\"_blank\">\n",
      "    <div class=\"MIXNux\">\n",
      "     <div class=\"_2QcLo-\">\n",
      "      <div>\n",
      "       <div class=\"CXW8mj\" style=\"height:200px;width:200px\">\n",
      "        <img alt=\"SAMSUNG Galaxy F12 (Sea Green, 64 GB)\" class=\"_396cs4 _3exPp9\" src=\"https://rukminim1.flixcart.com/image/312/312/kn22m4w0/mobile/a/q/8/galaxy-f12-sm-f127gzgiins-samsung-original-imagftmjw3xqg4yk.jpeg?q=70\"/>\n",
      "       </div>\n",
      "      </div>\n",
      "     </div>\n",
      "     <div class=\"_3wLduG\">\n",
      "      <div class=\"_3PzNI-\">\n",
      "       <span class=\"f3A4_V\">\n",
      "        <label class=\"_2iDkf8\">\n",
      "         <input class=\"_30VH1S\" readonly=\"\" type=\"checkbox\"/>\n",
      "         <div class=\"_24_Dny\">\n",
      "         </div>\n",
      "        </label>\n",
      "       </span>\n",
      "       <label class=\"_6Up2sF\">\n",
      "        <span>\n",
      "         Add to Compare\n",
      "        </span>\n",
      "       </label>\n",
      "      </div>\n",
      "     </div>\n",
      "     <div class=\"_2hVSre _3nq8ih\">\n",
      "      <div class=\"_36FSn5\">\n",
      "       <svg class=\"_1l0elc\" height=\"16\" viewbox=\"0 0 20 16\" width=\"16\" xmlns=\"http://www.w3.org/2000/svg\">\n",
      "        <path class=\"eX72wL\" d=\"M8.695 16.682C4.06 12.382 1 9.536 1 6.065 1 3.219 3.178 1 5.95 1c1.566 0 3.069.746 4.05 1.915C10.981 1.745 12.484 1 14.05 1 16.822 1 19 3.22 19 6.065c0 3.471-3.06 6.316-7.695 10.617L10 17.897l-1.305-1.215z\" fill=\"#2874F0\" fill-rule=\"evenodd\" opacity=\".9\" stroke=\"#FFF\">\n",
      "        </path>\n",
      "       </svg>\n",
      "      </div>\n",
      "     </div>\n",
      "    </div>\n",
      "    <div class=\"_3pLy-c row\">\n",
      "     <div class=\"col col-7-12\">\n",
      "      <div class=\"_4rR01T\">\n",
      "       SAMSUNG Galaxy F12 (Sea Green, 64 GB)\n",
      "      </div>\n",
      "      <div class=\"gUuXy-\">\n",
      "       <span class=\"_1lRcqv\" id=\"productRating_LSTMOBGFG794YPQ9RAEGUPPTW_MOBGFG794YPQ9RAE_\">\n",
      "        <div class=\"_3LWZlK\">\n",
      "         4.2\n",
      "         <img class=\"_1wB99o\" src=\"data:image/svg+xml;base64,PHN2ZyB4bWxucz0iaHR0cDovL3d3dy53My5vcmcvMjAwMC9zdmciIHdpZHRoPSIxMyIgaGVpZ2h0PSIxMiI+PHBhdGggZmlsbD0iI0ZGRiIgZD0iTTYuNSA5LjQzOWwtMy42NzQgMi4yMy45NC00LjI2LTMuMjEtMi44ODMgNC4yNTQtLjQwNEw2LjUuMTEybDEuNjkgNC4wMSA0LjI1NC40MDQtMy4yMSAyLjg4Mi45NCA0LjI2eiIvPjwvc3ZnPg==\"/>\n",
      "        </div>\n",
      "       </span>\n",
      "       <span class=\"_2_R_DZ\">\n",
      "        <span>\n",
      "         <span>\n",
      "          1,88,485 Ratings\n",
      "         </span>\n",
      "         <span class=\"_13vcmD\">\n",
      "          &amp;\n",
      "         </span>\n",
      "         <span>\n",
      "          14,997 Reviews\n",
      "         </span>\n",
      "        </span>\n",
      "       </span>\n",
      "      </div>\n",
      "      <div class=\"fMghEO\">\n",
      "       <ul class=\"_1xgFaf\">\n",
      "        <li class=\"rgWa7D\">\n",
      "         4 GB RAM | 64 GB ROM | Expandable Upto 512 GB\n",
      "        </li>\n",
      "        <li class=\"rgWa7D\">\n",
      "         16.55 cm (6.515 inch) HD+ Display\n",
      "        </li>\n",
      "        <li class=\"rgWa7D\">\n",
      "         48MP + 5MP + 2MP + 2MP | 8MP Front Camera\n",
      "        </li>\n",
      "        <li class=\"rgWa7D\">\n",
      "         6000 mAh Lithium-ion Battery\n",
      "        </li>\n",
      "        <li class=\"rgWa7D\">\n",
      "         Exynos 850 Processor\n",
      "        </li>\n",
      "        <li class=\"rgWa7D\">\n",
      "         1 Year Warranty Provided by the Manufacturer from Date of Purchase\n",
      "        </li>\n",
      "       </ul>\n",
      "      </div>\n",
      "     </div>\n",
      "     <div class=\"col col-5-12 nlI3QM\">\n",
      "      <div class=\"_3tbKJL\">\n",
      "       <div class=\"_25b18c\">\n",
      "        <div class=\"_30jeq3 _1_WHN1\">\n",
      "         ₹9,499\n",
      "        </div>\n",
      "        <div class=\"_3I9_wc _27UcVY\">\n",
      "         ₹\n",
      "         <!-- -->\n",
      "         12,999\n",
      "        </div>\n",
      "        <div class=\"_3Ay6Sb\">\n",
      "         <span>\n",
      "          26% off\n",
      "         </span>\n",
      "        </div>\n",
      "       </div>\n",
      "      </div>\n",
      "      <div class=\"_13J9qT\">\n",
      "       <img height=\"21\" src=\"//static-assets-web.flixcart.com/www/linchpin/fk-cp-zion/img/fa_62673a.png\"/>\n",
      "      </div>\n",
      "     </div>\n",
      "    </div>\n",
      "   </a>\n",
      "  </div>\n",
      " </div>\n",
      "</div>\n"
     ]
    }
   ],
   "source": [
    "print(soup.prettify(containers[0]))"
   ]
  },
  {
   "cell_type": "code",
   "execution_count": 48,
   "id": "e531534a",
   "metadata": {},
   "outputs": [
    {
     "name": "stdout",
     "output_type": "stream",
     "text": [
      "SAMSUNG Galaxy F12 (Sea Green, 64 GB)\n"
     ]
    }
   ],
   "source": [
    "container = containers[0]\n",
    "print(container.div.img[\"alt\"])"
   ]
  },
  {
   "cell_type": "code",
   "execution_count": 12,
   "id": "c4cde5fd",
   "metadata": {},
   "outputs": [
    {
     "name": "stdout",
     "output_type": "stream",
     "text": [
      "₹9,499\n"
     ]
    }
   ],
   "source": [
    "price = container.findAll(\"div\", {\"class\": \"_30jeq3 _1_WHN1\"})\n",
    "print(price[0].text)"
   ]
  },
  {
   "cell_type": "code",
   "execution_count": 15,
   "id": "3c9ea86a",
   "metadata": {},
   "outputs": [
    {
     "name": "stdout",
     "output_type": "stream",
     "text": [
      "1,88,485 Ratings & 14,997 Reviews\n"
     ]
    }
   ],
   "source": [
    "ratings = container.findAll(\"span\", {\"class\": \"_2_R_DZ\"})\n",
    "print(ratings[0].text)"
   ]
  },
  {
   "cell_type": "code",
   "execution_count": 42,
   "id": "9d393a6d",
   "metadata": {},
   "outputs": [
    {
     "data": {
      "text/plain": [
       "32"
      ]
     },
     "execution_count": 42,
     "metadata": {},
     "output_type": "execute_result"
    }
   ],
   "source": [
    "filename = \"product.csv\"\n",
    "f = open(filename, \"w\")\n",
    "headers = \"Product_Name, Pricing, Ratings \\n\"\n",
    "f.write(headers)"
   ]
  },
  {
   "cell_type": "code",
   "execution_count": 43,
   "id": "ceaf0dd6",
   "metadata": {
    "scrolled": true
   },
   "outputs": [
    {
     "name": "stdout",
     "output_type": "stream",
     "text": [
      "Product_Name:SAMSUNG Galaxy F12 (Sea Green, 64 GB)\n",
      "Price: ₹9,499\n",
      "Ratings:1,88,485 Ratings & 14,997 Reviews\n",
      "Product_Name:SAMSUNG Galaxy F12 (Sky Blue, 64 GB)\n",
      "Price: ₹9,499\n",
      "Ratings:1,88,485 Ratings & 14,997 Reviews\n",
      "Product_Name:SAMSUNG Galaxy F12 (Sea Green, 128 GB)\n",
      "Price: ₹10,499\n",
      "Ratings:1,88,485 Ratings & 14,997 Reviews\n",
      "Product_Name:SAMSUNG Galaxy F12 (Sky Blue, 128 GB)\n",
      "Price: ₹10,499\n",
      "Ratings:1,88,485 Ratings & 14,997 Reviews\n",
      "Product_Name:SAMSUNG Galaxy F22 (Denim Blue, 64 GB)\n",
      "Price: ₹11,999\n",
      "Ratings:41,367 Ratings & 3,994 Reviews\n",
      "Product_Name:SAMSUNG Galaxy F22 (Denim Black, 64 GB)\n",
      "Price: ₹11,999\n",
      "Ratings:41,367 Ratings & 3,994 Reviews\n",
      "Product_Name:SAMSUNG Galaxy F22 (Denim Blue, 128 GB)\n",
      "Price: ₹13,999\n",
      "Ratings:26,525 Ratings & 2,336 Reviews\n",
      "Product_Name:SAMSUNG Galaxy F22 (Denim Black, 128 GB)\n",
      "Price: ₹13,999\n",
      "Ratings:26,525 Ratings & 2,336 Reviews\n",
      "Product_Name:SAMSUNG Galaxy F12 (Celestial Black, 128 GB)\n",
      "Price: ₹10,499\n",
      "Ratings:1,88,485 Ratings & 14,997 Reviews\n",
      "Product_Name:SAMSUNG Galaxy A52 (Awesome Black, 128 GB)\n",
      "Price: ₹24,968\n",
      "Ratings:853 Ratings & 110 Reviews\n",
      "Product_Name:SAMSUNG Galaxy M32 5G (Slate Black, 128 GB)\n",
      "Price: ₹20,649\n",
      "Ratings:305 Ratings & 18 Reviews\n",
      "Product_Name:SAMSUNG Galaxy A22 5G (Violet, 128 GB)\n",
      "Price: ₹17,910\n",
      "Ratings:716 Ratings & 75 Reviews\n",
      "Product_Name:SAMSUNG Galaxy M12 (Black, 128 GB)\n",
      "Price: ₹13,990\n",
      "Ratings:2,337 Ratings & 136 Reviews\n",
      "Product_Name:SAMSUNG Galaxy M12 (Blue, 64 GB)\n",
      "Price: ₹11,238\n",
      "Ratings:7,320 Ratings & 512 Reviews\n",
      "Product_Name:SAMSUNG Galaxy A10 (Blue, 32 GB)\n",
      "Price: ₹8,499\n",
      "Ratings:13,150 Ratings & 1,049 Reviews\n",
      "Product_Name:SAMSUNG Galaxy A22 5G (Gray, 128 GB)\n",
      "Price: ₹17,781\n",
      "Ratings:716 Ratings & 75 Reviews\n",
      "Product_Name:SAMSUNG Galaxy A22 5G (Mint, 128 GB)\n",
      "Price: ₹18,382\n",
      "Ratings:716 Ratings & 75 Reviews\n",
      "Product_Name:SAMSUNG Galaxy M32 (Black, 128 GB)\n",
      "Price: ₹17,475\n",
      "Ratings:823 Ratings & 53 Reviews\n",
      "Product_Name:SAMSUNG Galaxy A32 (Awesome Blue, 128 GB)\n",
      "Price: ₹23,499\n",
      "Ratings:20 Ratings & 0 Reviews\n",
      "Product_Name:SAMSUNG Galaxy M12 (White, 64 GB)\n",
      "Price: ₹11,218\n",
      "Ratings:7,320 Ratings & 512 Reviews\n",
      "Product_Name:SAMSUNG Galaxy A52 (Awesome Blue, 128 GB)\n",
      "Price: ₹25,058\n",
      "Ratings:853 Ratings & 110 Reviews\n",
      "Product_Name:SAMSUNG Galaxy M52 5G (Blazing Black, 128 GB)\n",
      "Price: ₹25,980\n",
      "Ratings:274 Ratings & 25 Reviews\n",
      "Product_Name:SAMSUNG Galaxy F42 5G (Matte Black, 128 GB)\n",
      "Price: ₹17,999\n",
      "Ratings:4,838 Ratings & 458 Reviews\n",
      "Product_Name:SAMSUNG Galaxy M12 (Black, 64 GB)\n",
      "Price: ₹11,219\n",
      "Ratings:7,320 Ratings & 512 Reviews\n"
     ]
    }
   ],
   "source": [
    "for container in containers:\n",
    "    product_name = container.div.img[\"alt\"]\n",
    "    price_container = container.findAll(\"div\", {\"class\": \"_30jeq3 _1_WHN1\"})\n",
    "    price = price_container[0].text.strip()\n",
    "\n",
    "    rating_container = container.findAll(\"span\", {\"class\": \"_2_R_DZ\"})\n",
    "    rating = rating_container[0].text\n",
    "    print(\"Product_Name:\"+ product_name)\n",
    "    print(\"Price: \" + price)\n",
    "    print(\"Ratings:\" + rating)"
   ]
  },
  {
   "cell_type": "code",
   "execution_count": 52,
   "id": "5321736e",
   "metadata": {},
   "outputs": [],
   "source": [
    "list_of_lists = []\n",
    "for container in containers:\n",
    "    list_of_page = []\n",
    "    \n",
    "    '''\n",
    "    Here's your scraper\n",
    "    '''\n",
    "    \n",
    "    list_of_page.append(product_name)\n",
    "    list_of_page.append(price)\n",
    "    list_of_page.append(ratings)\n",
    "    list_of_lists.append(list_of_page)\n",
    "    \n",
    "# Creating the DataFrame\n",
    "df = pd.DataFrame(list_of_lists, columns=['product_name', 'price', 'ratings'])\n",
    "# Exporting the DataFrame as csv\n",
    "df.to_csv('quotes-list.csv', index=False, sep=';')"
   ]
  },
  {
   "cell_type": "code",
   "execution_count": null,
   "id": "64edd58a",
   "metadata": {},
   "outputs": [],
   "source": []
  },
  {
   "cell_type": "code",
   "execution_count": null,
   "id": "76fe6364",
   "metadata": {},
   "outputs": [],
   "source": []
  },
  {
   "cell_type": "code",
   "execution_count": null,
   "id": "992d845f",
   "metadata": {},
   "outputs": [],
   "source": []
  },
  {
   "cell_type": "code",
   "execution_count": null,
   "id": "1cda285d",
   "metadata": {},
   "outputs": [],
   "source": []
  },
  {
   "cell_type": "code",
   "execution_count": null,
   "id": "0a668cfe",
   "metadata": {},
   "outputs": [],
   "source": []
  },
  {
   "cell_type": "code",
   "execution_count": null,
   "id": "76b9b106",
   "metadata": {},
   "outputs": [],
   "source": []
  },
  {
   "cell_type": "code",
   "execution_count": null,
   "id": "24daf631",
   "metadata": {},
   "outputs": [],
   "source": []
  },
  {
   "cell_type": "code",
   "execution_count": null,
   "id": "23290f63",
   "metadata": {},
   "outputs": [],
   "source": []
  },
  {
   "cell_type": "code",
   "execution_count": null,
   "id": "256104fa",
   "metadata": {},
   "outputs": [],
   "source": []
  },
  {
   "cell_type": "code",
   "execution_count": null,
   "id": "f1ca06e8",
   "metadata": {},
   "outputs": [],
   "source": []
  },
  {
   "cell_type": "code",
   "execution_count": null,
   "id": "8e0deb30",
   "metadata": {},
   "outputs": [],
   "source": []
  },
  {
   "cell_type": "code",
   "execution_count": null,
   "id": "2d37a0b7",
   "metadata": {},
   "outputs": [],
   "source": []
  },
  {
   "cell_type": "code",
   "execution_count": null,
   "id": "d285a8d6",
   "metadata": {},
   "outputs": [],
   "source": []
  },
  {
   "cell_type": "code",
   "execution_count": null,
   "id": "6ca32037",
   "metadata": {},
   "outputs": [],
   "source": []
  },
  {
   "cell_type": "code",
   "execution_count": null,
   "id": "8d4d1325",
   "metadata": {},
   "outputs": [],
   "source": []
  }
 ],
 "metadata": {
  "kernelspec": {
   "display_name": "Python 3 (ipykernel)",
   "language": "python",
   "name": "python3"
  },
  "language_info": {
   "codemirror_mode": {
    "name": "ipython",
    "version": 3
   },
   "file_extension": ".py",
   "mimetype": "text/x-python",
   "name": "python",
   "nbconvert_exporter": "python",
   "pygments_lexer": "ipython3",
   "version": "3.9.7"
  }
 },
 "nbformat": 4,
 "nbformat_minor": 5
}
